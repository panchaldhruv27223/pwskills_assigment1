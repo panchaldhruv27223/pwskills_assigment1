{
 "cells": [
  {
   "cell_type": "code",
   "execution_count": 1,
   "id": "4cc12aa2",
   "metadata": {},
   "outputs": [],
   "source": [
    "# Q1. Explain with an example each when to use a for loop and a while loop.\n",
    "\n",
    "# ans Q1 :\n",
    "    \n",
    "#     when we have specific number we use for loop\n",
    "#     when we don't have specific number , we have condition then we use while loop\n"
   ]
  },
  {
   "cell_type": "code",
   "execution_count": 9,
   "id": "dbccfd9b",
   "metadata": {},
   "outputs": [
    {
     "name": "stdout",
     "output_type": "stream",
     "text": [
      "1\n",
      "2\n",
      "3\n",
      "4\n",
      "5\n"
     ]
    }
   ],
   "source": [
    "#  ex for loop:\n",
    "\n",
    "l = [1,2,3,4,5]\n",
    "for i in l :\n",
    "    print(i)\n",
    "    \n",
    "#  for loop run specific n number of time"
   ]
  },
  {
   "cell_type": "code",
   "execution_count": 15,
   "id": "9b88d995",
   "metadata": {},
   "outputs": [
    {
     "name": "stdout",
     "output_type": "stream",
     "text": [
      "enter number below 100 :99\n",
      "99\n"
     ]
    }
   ],
   "source": [
    "#ex while loop:\n",
    "u_input  = int(input(\"enter number below 100 :\"))\n",
    "\n",
    "while u_input <100:\n",
    "    print(u_input)\n",
    "    u_input = u_input + 1\n",
    "    \n",
    "    \n",
    "    \n",
    "#  while loop depend on user input . we can not say that a what number of time while loop run .\n",
    "    "
   ]
  },
  {
   "cell_type": "code",
   "execution_count": 16,
   "id": "4c83a1de",
   "metadata": {},
   "outputs": [],
   "source": [
    "# Q2. Write a python program to print the sum and product of the first 10 natural numbers using for and while loop."
   ]
  },
  {
   "cell_type": "code",
   "execution_count": 20,
   "id": "200fbab1",
   "metadata": {},
   "outputs": [
    {
     "name": "stdout",
     "output_type": "stream",
     "text": [
      "the sum is :55\n",
      "the multiplication is :3628800\n"
     ]
    }
   ],
   "source": [
    "## using for loop\n",
    "\n",
    "#  sum of first 10 natural number \n",
    "\n",
    "sum = 0 \n",
    "for i in range(11):\n",
    "    sum = sum + i\n",
    "    \n",
    "print(\"the sum is :\" + str(sum))\n",
    "\n",
    "#  product of first 10 natural number \n",
    "\n",
    "mul = 1 \n",
    "\n",
    "for i in range(1,11):\n",
    "    mul = mul *i\n",
    "    \n",
    "print(\"the multiplication is :\" + str(mul))"
   ]
  },
  {
   "cell_type": "code",
   "execution_count": 21,
   "id": "c7846aa4",
   "metadata": {},
   "outputs": [
    {
     "name": "stdout",
     "output_type": "stream",
     "text": [
      "55\n",
      "3628800\n"
     ]
    }
   ],
   "source": [
    "## using while loop\n",
    "\n",
    "sum =0 \n",
    "mul= 1\n",
    "\n",
    "#  for 10  natural number sum \n",
    "\n",
    "i = 1\n",
    "while i<=10:\n",
    "    sum = sum + i\n",
    "    mul = mul *i\n",
    "    \n",
    "    i = i +1\n",
    "    \n",
    "print(sum)\n",
    "print(mul)\n",
    "\n",
    "\n"
   ]
  },
  {
   "cell_type": "code",
   "execution_count": 4,
   "id": "5fe77c08",
   "metadata": {},
   "outputs": [],
   "source": [
    "# Q3. Create a python program to compute the electricity bill for a household.\n",
    "# The per-unit charges in rupees are as follows: For the first 100 units, the user will be charged Rs. 4.5 per\n",
    "# unit, for the next 100 units, the user will be charged Rs. 6 per unit, and for the next 100 units, the user will\n",
    "# be charged Rs. 10 per unit, After 300 units and above the user will be charged Rs. 20 per unit.\n",
    "# You are required to take the units of electricity consumed in a month from the user as input.\n",
    "# Your program must pass this test case: when the unit of electricity consumed by the user in a month is\n",
    "# 310, the total electricity bill should be 2250."
   ]
  },
  {
   "cell_type": "code",
   "execution_count": 58,
   "id": "aa369ce5",
   "metadata": {},
   "outputs": [
    {
     "name": "stdout",
     "output_type": "stream",
     "text": [
      "enter consumed number of unti per months :310\n",
      "user total bill : 2250.0\n"
     ]
    }
   ],
   "source": [
    "unit  = int(input(\"enter consumed number of unti per months :\"))\n",
    "\n",
    "total_bill = 0 \n",
    "\n",
    "if unit <=100 :\n",
    "    total_bill = unit*4.5\n",
    "elif (unit>100 and unit<=200):\n",
    "    c1_u = unit-100\n",
    "    total_bill = 100*4.5 + c1_u*6\n",
    "elif (unit>200 and unit<=300):\n",
    "    c2_u = unit-200\n",
    "    total_bill = 100*4.5 + 100*6 + c2_u*10\n",
    "elif (unit>300):\n",
    "    c3_u = unit-300\n",
    "    total_bill = 100*4.5 + 100*6 + 100*10 + c3_u*20\n",
    "\n",
    "    \n",
    "\n",
    "print(\"user total bill : \" + str(total_bill))"
   ]
  },
  {
   "cell_type": "code",
   "execution_count": 5,
   "id": "db9db3d4",
   "metadata": {},
   "outputs": [],
   "source": [
    "# Q4. Create a list of numbers from 1 to 100. Use for loop and while loop to calculate the cube of each\n",
    "# number and if the cube of that number is divisible by 4 or 5 then append that number in a list and print\n",
    "# that list."
   ]
  },
  {
   "cell_type": "code",
   "execution_count": 31,
   "id": "791d68da",
   "metadata": {},
   "outputs": [
    {
     "data": {
      "text/plain": [
       "[1,\n",
       " 2,\n",
       " 3,\n",
       " 4,\n",
       " 5,\n",
       " 6,\n",
       " 7,\n",
       " 8,\n",
       " 9,\n",
       " 10,\n",
       " 11,\n",
       " 12,\n",
       " 13,\n",
       " 14,\n",
       " 15,\n",
       " 16,\n",
       " 17,\n",
       " 18,\n",
       " 19,\n",
       " 20,\n",
       " 21,\n",
       " 22,\n",
       " 23,\n",
       " 24,\n",
       " 25,\n",
       " 26,\n",
       " 27,\n",
       " 28,\n",
       " 29,\n",
       " 30,\n",
       " 31,\n",
       " 32,\n",
       " 33,\n",
       " 34,\n",
       " 35,\n",
       " 36,\n",
       " 37,\n",
       " 38,\n",
       " 39,\n",
       " 40,\n",
       " 41,\n",
       " 42,\n",
       " 43,\n",
       " 44,\n",
       " 45,\n",
       " 46,\n",
       " 47,\n",
       " 48,\n",
       " 49,\n",
       " 50,\n",
       " 51,\n",
       " 52,\n",
       " 53,\n",
       " 54,\n",
       " 55,\n",
       " 56,\n",
       " 57,\n",
       " 58,\n",
       " 59,\n",
       " 60,\n",
       " 61,\n",
       " 62,\n",
       " 63,\n",
       " 64,\n",
       " 65,\n",
       " 66,\n",
       " 67,\n",
       " 68,\n",
       " 69,\n",
       " 70,\n",
       " 71,\n",
       " 72,\n",
       " 73,\n",
       " 74,\n",
       " 75,\n",
       " 76,\n",
       " 77,\n",
       " 78,\n",
       " 79,\n",
       " 80,\n",
       " 81,\n",
       " 82,\n",
       " 83,\n",
       " 84,\n",
       " 85,\n",
       " 86,\n",
       " 87,\n",
       " 88,\n",
       " 89,\n",
       " 90,\n",
       " 91,\n",
       " 92,\n",
       " 93,\n",
       " 94,\n",
       " 95,\n",
       " 96,\n",
       " 97,\n",
       " 98,\n",
       " 99,\n",
       " 100]"
      ]
     },
     "execution_count": 31,
     "metadata": {},
     "output_type": "execute_result"
    }
   ],
   "source": [
    "l = []\n",
    "\n",
    "for i in range(1,101):\n",
    "    l.append(i)\n",
    "    \n"
   ]
  },
  {
   "cell_type": "code",
   "execution_count": 36,
   "id": "2c272b49",
   "metadata": {},
   "outputs": [],
   "source": [
    "#  using for loop\n",
    "l1 = []\n",
    "for i in l:\n",
    "    j = (i**3)\n",
    "    if (j%4==0 or j%5 ==0):\n",
    "        l1.append(j)"
   ]
  },
  {
   "cell_type": "code",
   "execution_count": 37,
   "id": "44934087",
   "metadata": {},
   "outputs": [
    {
     "data": {
      "text/plain": [
       "[8,\n",
       " 64,\n",
       " 125,\n",
       " 216,\n",
       " 512,\n",
       " 1000,\n",
       " 1728,\n",
       " 2744,\n",
       " 3375,\n",
       " 4096,\n",
       " 5832,\n",
       " 8000,\n",
       " 10648,\n",
       " 13824,\n",
       " 15625,\n",
       " 17576,\n",
       " 21952,\n",
       " 27000,\n",
       " 32768,\n",
       " 39304,\n",
       " 42875,\n",
       " 46656,\n",
       " 54872,\n",
       " 64000,\n",
       " 74088,\n",
       " 85184,\n",
       " 91125,\n",
       " 97336,\n",
       " 110592,\n",
       " 125000,\n",
       " 140608,\n",
       " 157464,\n",
       " 166375,\n",
       " 175616,\n",
       " 195112,\n",
       " 216000,\n",
       " 238328,\n",
       " 262144,\n",
       " 274625,\n",
       " 287496,\n",
       " 314432,\n",
       " 343000,\n",
       " 373248,\n",
       " 405224,\n",
       " 421875,\n",
       " 438976,\n",
       " 474552,\n",
       " 512000,\n",
       " 551368,\n",
       " 592704,\n",
       " 614125,\n",
       " 636056,\n",
       " 681472,\n",
       " 729000,\n",
       " 778688,\n",
       " 830584,\n",
       " 857375,\n",
       " 884736,\n",
       " 941192,\n",
       " 1000000]"
      ]
     },
     "execution_count": 37,
     "metadata": {},
     "output_type": "execute_result"
    }
   ],
   "source": [
    "l1"
   ]
  },
  {
   "cell_type": "code",
   "execution_count": 43,
   "id": "c063bf76",
   "metadata": {},
   "outputs": [],
   "source": [
    "#  using while loop\n",
    "l2 = []\n",
    "k = 0\n",
    "while k <len(l):\n",
    "    j = l[k]**3\n",
    "    if (j%4==0 or j%5 ==0):\n",
    "        l2.append(j)\n",
    "    k = k+1"
   ]
  },
  {
   "cell_type": "code",
   "execution_count": 57,
   "id": "84f623f3",
   "metadata": {},
   "outputs": [
    {
     "data": {
      "text/plain": [
       "[8,\n",
       " 64,\n",
       " 125,\n",
       " 216,\n",
       " 512,\n",
       " 1000,\n",
       " 1728,\n",
       " 2744,\n",
       " 3375,\n",
       " 4096,\n",
       " 5832,\n",
       " 8000,\n",
       " 10648,\n",
       " 13824,\n",
       " 15625,\n",
       " 17576,\n",
       " 21952,\n",
       " 27000,\n",
       " 32768,\n",
       " 39304,\n",
       " 42875,\n",
       " 46656,\n",
       " 54872,\n",
       " 64000,\n",
       " 74088,\n",
       " 85184,\n",
       " 91125,\n",
       " 97336,\n",
       " 110592,\n",
       " 125000,\n",
       " 140608,\n",
       " 157464,\n",
       " 166375,\n",
       " 175616,\n",
       " 195112,\n",
       " 216000,\n",
       " 238328,\n",
       " 262144,\n",
       " 274625,\n",
       " 287496,\n",
       " 314432,\n",
       " 343000,\n",
       " 373248,\n",
       " 405224,\n",
       " 421875,\n",
       " 438976,\n",
       " 474552,\n",
       " 512000,\n",
       " 551368,\n",
       " 592704,\n",
       " 614125,\n",
       " 636056,\n",
       " 681472,\n",
       " 729000,\n",
       " 778688,\n",
       " 830584,\n",
       " 857375,\n",
       " 884736,\n",
       " 941192,\n",
       " 1000000]"
      ]
     },
     "execution_count": 57,
     "metadata": {},
     "output_type": "execute_result"
    }
   ],
   "source": [
    "l2"
   ]
  },
  {
   "cell_type": "code",
   "execution_count": 20,
   "id": "b741271f",
   "metadata": {},
   "outputs": [],
   "source": [
    "\n",
    "# Q5. Write a program to filter count vowels in the below-given string.\n",
    "# string = \"I want to become a data scientist\""
   ]
  },
  {
   "cell_type": "code",
   "execution_count": 45,
   "id": "319f8b0c",
   "metadata": {},
   "outputs": [],
   "source": [
    "string = \"I want to become a data scientist\""
   ]
  },
  {
   "cell_type": "code",
   "execution_count": 60,
   "id": "b744982f",
   "metadata": {},
   "outputs": [
    {
     "name": "stdout",
     "output_type": "stream",
     "text": [
      "12\n"
     ]
    }
   ],
   "source": [
    "count = 0 \n",
    "i = 0\n",
    "while i <len(string):\n",
    "    if (string[i].lower()==('a') or string[i].lower()==('e') or string[i].lower()==('i') or string[i].lower()==('o') or string[i].lower()==('u')):\n",
    "        count =count +1\n",
    "    i = i+1\n",
    "print(count)"
   ]
  }
 ],
 "metadata": {
  "kernelspec": {
   "display_name": "Python 3 (ipykernel)",
   "language": "python",
   "name": "python3"
  },
  "language_info": {
   "codemirror_mode": {
    "name": "ipython",
    "version": 3
   },
   "file_extension": ".py",
   "mimetype": "text/x-python",
   "name": "python",
   "nbconvert_exporter": "python",
   "pygments_lexer": "ipython3",
   "version": "3.9.7"
  }
 },
 "nbformat": 4,
 "nbformat_minor": 5
}
